{
 "cells": [
  {
   "cell_type": "code",
   "execution_count": 1,
   "metadata": {},
   "outputs": [],
   "source": [
    "import torch\n",
    "import torchvision\n",
    "import sys\n",
    "if '/home/dennis/git_repos/mslp-dataset/benchmark/nn' in sys.path:\n",
    "    sys.path.remove('/home/dennis/git_repos/mslp-dataset/benchmark/nn')\n",
    "sys.path.insert(0, '/home/dennis/git_repos/mslp-dataset/benchmark/nn')\n",
    "from utils.dataset import MARITIMEDETECTION\n",
    "from models.faster_rcnn import LitFasterRCNN\n",
    "from utils.transforms import ToTensor\n",
    "from torchmetrics.detection.mean_ap import MeanAveragePrecision\n",
    "from pprint import pprint\n",
    "from tqdm import tqdm"
   ]
  },
  {
   "attachments": {},
   "cell_type": "markdown",
   "metadata": {},
   "source": [
    "### Evaluate Faster RCNN results with Mean Average Precision\n",
    "* best result with lr: 0.0001"
   ]
  },
  {
   "cell_type": "code",
   "execution_count": 2,
   "metadata": {},
   "outputs": [
    {
     "name": "stderr",
     "output_type": "stream",
     "text": [
      "100%|██████████| 310/310 [00:01<00:00, 248.19it/s]\n",
      "/media/dennis/3B9FC6C559F7A944/anaconda3/envs/benchmark/lib/python3.9/site-packages/pytorch_lightning/utilities/migration/utils.py:52: PossibleUserWarning: The loaded checkpoint was produced with Lightning v2.0.7, which is newer than your current Lightning version: v2.0.6\n",
      "  rank_zero_warn(\n"
     ]
    }
   ],
   "source": [
    "test_dataset = MARITIMEDETECTION(\"/media/dennis/3B9FC6C559F7A944/converted_object_detection_dataset\", \"test\",\n",
    "                                    transform=torchvision.transforms.Compose([ \n",
    "                                    ToTensor()]))\n",
    "\n",
    "model = LitFasterRCNN.load_from_checkpoint(\"/home/dennis/git_repos/mslp-dataset/benchmark/nn/faster_rcnn_log/version_0/fasterrcnn-epoch=38-val_loss=0.00.ckpt\", map_location=\"cuda\")\n",
    "model.eval()\n",
    "metric = MeanAveragePrecision(class_metrics=True)"
   ]
  },
  {
   "cell_type": "code",
   "execution_count": 3,
   "metadata": {},
   "outputs": [
    {
     "name": "stderr",
     "output_type": "stream",
     "text": [
      "100%|██████████| 310/310 [01:10<00:00,  4.40it/s]\n"
     ]
    },
    {
     "name": "stdout",
     "output_type": "stream",
     "text": [
      "{'classes': tensor([1, 2, 3, 4, 5, 6, 8, 9], dtype=torch.int32),\n",
      " 'map': tensor(0.2560),\n",
      " 'map_50': tensor(0.5014),\n",
      " 'map_75': tensor(0.2207),\n",
      " 'map_large': tensor(0.2650),\n",
      " 'map_medium': tensor(0.0953),\n",
      " 'map_per_class': tensor([0.1471, 0.4578, 0.2759, 0.0000, 0.3558, 0.2777, 0.2807, 0.2528]),\n",
      " 'map_small': tensor(0.),\n",
      " 'mar_1': tensor(0.3121),\n",
      " 'mar_10': tensor(0.3241),\n",
      " 'mar_100': tensor(0.3241),\n",
      " 'mar_100_per_class': tensor([0.2221, 0.5708, 0.3759, 0.0000, 0.3659, 0.3390, 0.4241, 0.2953]),\n",
      " 'mar_large': tensor(0.3139),\n",
      " 'mar_medium': tensor(0.2358),\n",
      " 'mar_small': tensor(0.)}\n"
     ]
    }
   ],
   "source": [
    "model = model.cuda()\n",
    "with torch.no_grad():\n",
    "    for sample in tqdm(test_dataset):\n",
    "        img, targets = sample[\"left_img\"], sample[\"targets\"]\n",
    "\n",
    "        output = model(img.cuda(), None)\n",
    "\n",
    "        scores = output[0][\"scores\"].cpu()\n",
    "        boxes = output[0][\"boxes\"].cpu()\n",
    "        labels = output[0][\"labels\"].cpu()\n",
    "\n",
    "        score_mask = scores > 0.8\n",
    "        scores = scores[score_mask]\n",
    "        boxes = boxes[score_mask]\n",
    "        labels_int = labels[score_mask]\n",
    "        labels = [str(l) for l in labels_int.tolist()]\n",
    "\n",
    "        image = sample[\"left_img\"]\n",
    "        image = (image*255).to(torch.uint8)\n",
    "\n",
    "        gt_mask = targets[0].sum(dim=1) != 0\n",
    "        gt_boxes = targets[0][gt_mask]\n",
    "        gt_labels_int = targets[1][gt_mask].to(torch.int32).tolist()\n",
    "        gt_labels = [str(num) for num in gt_labels_int]\n",
    "        \n",
    "        preds = [dict(boxes=boxes, scores=scores, labels=labels_int)]\n",
    "        target = [dict(boxes=gt_boxes, labels=torch.tensor(gt_labels_int))]\n",
    "        metric.update(preds, target)\n",
    "\n",
    "pprint(metric.compute())\n"
   ]
  }
 ],
 "metadata": {
  "kernelspec": {
   "display_name": "benchmark",
   "language": "python",
   "name": "python3"
  },
  "language_info": {
   "codemirror_mode": {
    "name": "ipython",
    "version": 3
   },
   "file_extension": ".py",
   "mimetype": "text/x-python",
   "name": "python",
   "nbconvert_exporter": "python",
   "pygments_lexer": "ipython3",
   "version": "3.9.17"
  },
  "orig_nbformat": 4
 },
 "nbformat": 4,
 "nbformat_minor": 2
}
