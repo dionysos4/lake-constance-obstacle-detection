{
 "cells": [
  {
   "cell_type": "code",
   "execution_count": 1,
   "metadata": {},
   "outputs": [],
   "source": [
    "import torch\n",
    "import torchvision\n",
    "import sys\n",
    "if '/home/dennis/git_repos/mslp-dataset/benchmark/nn' in sys.path:\n",
    "    sys.path.remove('/home/dennis/git_repos/mslp-dataset/benchmark/nn')\n",
    "sys.path.insert(0, '/home/dennis/git_repos/mslp-dataset/benchmark/nn')\n",
    "from utils.dataset import MARITIMEDETECTION\n",
    "from models.faster_rcnn import LitFasterRCNN\n",
    "from utils.transforms import ToTensor\n",
    "from torchmetrics.detection.mean_ap import MeanAveragePrecision\n",
    "from pprint import pprint\n",
    "from tqdm import tqdm"
   ]
  },
  {
   "attachments": {},
   "cell_type": "markdown",
   "metadata": {},
   "source": [
    "### Evaluate Faster RCNN results with Mean Average Precision\n",
    "* best result with lr: 0.0001"
   ]
  },
  {
   "cell_type": "code",
   "execution_count": 2,
   "metadata": {},
   "outputs": [
    {
     "name": "stderr",
     "output_type": "stream",
     "text": [
      "100%|██████████| 310/310 [00:00<00:00, 407.83it/s]\n"
     ]
    }
   ],
   "source": [
    "test_dataset = MARITIMEDETECTION(\"/media/dennis/3B9FC6C559F7A944/converted_object_detection_dataset_imu\", \"test\",\n",
    "                                    transform=torchvision.transforms.Compose([ \n",
    "                                    ToTensor()]))\n",
    "\n",
    "model = LitFasterRCNN.load_from_checkpoint(\"/home/dennis/git_repos/mslp-dataset/benchmark/nn/faster_rcnn_log_new/version_5/fasterrcnn-epoch=35-val_loss=0.00.ckpt\", map_location=\"cuda\")\n",
    "model.eval()\n",
    "metric = MeanAveragePrecision(class_metrics=True)"
   ]
  },
  {
   "cell_type": "code",
   "execution_count": 3,
   "metadata": {},
   "outputs": [
    {
     "name": "stderr",
     "output_type": "stream",
     "text": [
      "100%|██████████| 310/310 [00:59<00:00,  5.22it/s]\n"
     ]
    },
    {
     "name": "stdout",
     "output_type": "stream",
     "text": [
      "{'classes': tensor([1, 2, 3, 4, 5, 6, 7, 8, 9], dtype=torch.int32),\n",
      " 'map': tensor(0.2825),\n",
      " 'map_50': tensor(0.5706),\n",
      " 'map_75': tensor(0.2440),\n",
      " 'map_large': tensor(0.3003),\n",
      " 'map_medium': tensor(0.1951),\n",
      " 'map_per_class': tensor([ 0.2630,  0.4367,  0.3048,  0.0069,  0.3456,  0.1561, -1.0000,  0.4291,\n",
      "         0.3178]),\n",
      " 'map_small': tensor(0.),\n",
      " 'mar_1': tensor(0.3336),\n",
      " 'mar_10': tensor(0.3585),\n",
      " 'mar_100': tensor(0.3585),\n",
      " 'mar_100_per_class': tensor([ 0.3642,  0.5552,  0.4552,  0.0067,  0.3561,  0.1610, -1.0000,  0.5862,\n",
      "         0.3837]),\n",
      " 'mar_large': tensor(0.3491),\n",
      " 'mar_medium': tensor(0.2727),\n",
      " 'mar_small': tensor(0.)}\n"
     ]
    }
   ],
   "source": [
    "model = model.cuda()\n",
    "with torch.no_grad():\n",
    "    for sample in tqdm(test_dataset):\n",
    "        img, targets = sample[\"left_img\"], sample[\"targets\"]\n",
    "\n",
    "        output = model(img.cuda(), None)\n",
    "\n",
    "        scores = output[0][\"scores\"].cpu()\n",
    "        boxes = output[0][\"boxes\"].cpu()\n",
    "        labels = output[0][\"labels\"].cpu()\n",
    "\n",
    "        score_mask = scores > 0.8\n",
    "        scores = scores[score_mask]\n",
    "        boxes = boxes[score_mask]\n",
    "        labels_int = labels[score_mask]\n",
    "        labels = [str(l) for l in labels_int.tolist()]\n",
    "\n",
    "        image = sample[\"left_img\"]\n",
    "        image = (image*255).to(torch.uint8)\n",
    "\n",
    "        gt_mask = targets[0].sum(dim=1) != 0\n",
    "        gt_boxes = targets[0][gt_mask]\n",
    "        gt_labels_int = targets[1][gt_mask].to(torch.int32).tolist()\n",
    "        gt_labels = [str(num) for num in gt_labels_int]\n",
    "        \n",
    "        preds = [dict(boxes=boxes, scores=scores, labels=labels_int)]\n",
    "        target = [dict(boxes=gt_boxes, labels=torch.tensor(gt_labels_int))]\n",
    "        metric.update(preds, target)\n",
    "\n",
    "pprint(metric.compute())\n"
   ]
  }
 ],
 "metadata": {
  "kernelspec": {
   "display_name": "benchmark",
   "language": "python",
   "name": "python3"
  },
  "language_info": {
   "codemirror_mode": {
    "name": "ipython",
    "version": 3
   },
   "file_extension": ".py",
   "mimetype": "text/x-python",
   "name": "python",
   "nbconvert_exporter": "python",
   "pygments_lexer": "ipython3",
   "version": "3.8.18"
  },
  "orig_nbformat": 4
 },
 "nbformat": 4,
 "nbformat_minor": 2
}
